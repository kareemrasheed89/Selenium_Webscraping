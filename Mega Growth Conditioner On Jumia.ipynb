{
 "cells": [
  {
   "cell_type": "code",
   "execution_count": 12,
   "metadata": {},
   "outputs": [],
   "source": [
    "#Doing web scrapin of some website with Selenium\n",
    "import selenium\n",
    "from selenium import webdriver as wb\n",
    "#webD = wb.Chrome('C:\\Program Files (x86)\\Google\\Chrome\\Application\\chromedriver.exe')\n",
    "webD = wb.Chrome(r\"C:\\Users\\user\\Documents\\APP\\chromedriver.exe\")"
   ]
  },
  {
   "cell_type": "markdown",
   "metadata": {},
   "source": [
    "#### MEGA GROWTH WEB SCRAPING ON JUMIA ECOMMERCE PLATFORM"
   ]
  },
  {
   "cell_type": "code",
   "execution_count": 13,
   "metadata": {},
   "outputs": [],
   "source": [
    "webD.get(\"https://www.jumia.com.ng/mega-growth-deep-conditioner-500g-pack-of-2-mega-growth-mpg295394.html\")"
   ]
  },
  {
   "cell_type": "code",
   "execution_count": 15,
   "metadata": {},
   "outputs": [
    {
     "name": "stdout",
     "output_type": "stream",
     "text": [
      "['Brand: Mega Growth | Similar products from Mega Growth\\n4.5 out of 5\\n(130 ratings)\\n₦ 1,700']\n"
     ]
    }
   ],
   "source": [
    "prices=webD.find_elements_by_css_selector('#jm > main > div:nth-child(2) > section > div > div.col10 > div.-phs')\n",
    "product_info=[]\n",
    "for p in prices:\n",
    "    product_info.append(p.text)\n",
    "    print(product_info)"
   ]
  },
  {
   "cell_type": "code",
   "execution_count": 17,
   "metadata": {},
   "outputs": [
    {
     "name": "stdout",
     "output_type": "stream",
     "text": [
      "['Customers who viewed this also viewed\\nProfectiv Mega Growth Break Free Daily Leave In Strengthener\\n₦ 2,500\\nMega Growth Deep Conditioner 250g - Pack Of 3\\n₦ 1,500\\nMega Growth Deep Conditioner 250g\\n₦ 750\\nMega Growth Daily Leave-in Hair Strengthener 250g\\n₦ 2,100\\n19%\\nGrowth Daily- Leave-in Hair Strengthener 250g\\n₦ 2,400\\n20%\\nTCB Naturals Leave-In Hair Treatment With Shea Butter & Coconut Oil\\n₦ 2,500\\nProtective Mega Growth Strengthening Deep Conditioner\\n₦ 3,500']\n"
     ]
    }
   ],
   "source": [
    "Most_Popular_Products=webD.find_elements_by_css_selector('#jm > main > div:nth-child(3) > div.col12 > div:nth-child(3) > div > section')\n",
    "MPP=[]\n",
    "for pp in Most_Popular_Products:\n",
    "    MPP.append(pp.text)\n",
    "    print(MPP)"
   ]
  },
  {
   "cell_type": "code",
   "execution_count": 18,
   "metadata": {},
   "outputs": [
    {
     "name": "stdout",
     "output_type": "stream",
     "text": [
      "['Andrea 3-in-1 Natural Hair And Beard Growth Bundle (Castor Oil, Ceno Cold Pressed Coconut Oil And Andrea Fast Hair Growth Essence)\\n₦ 2,490\\n14%\\nTCB Naturals Herbal Pomade 212g - Pack Of 2\\n₦ 1,250\\nHair Now Now Hair Growth Serum X2 +FreeGift (Andrea Oil)\\n₦ 2,250\\n1%\\nAvila Organic Lightening Herbal/black Soap\\n₦ 1,090 - ₦ 1,745\\n50%\\nMiracle Beautiful You Shampoo - For Natural Hair With Castor Oil\\n₦ 1,000\\nMagic Twist Hair Sponge Brush, Dreads Locks Afro Braid Wave Hair Brush For Natural Hair Twist (1pc)\\n₦ 1,695\\n52%\\nHair Now Now Hair Now Rapid Growth Serum/ Beard Oil\\n₦ 998\\n67%\\nGrow Inches 100g Chebe Powder And Karkar Oil – 200ml (Natural Hair Care)\\n₦ 2,590']\n"
     ]
    }
   ],
   "source": [
    "Customers_Bought_Products=webD.find_elements_by_css_selector('#jm > main > div:nth-child(3) > div.col12 > div:nth-child(4) > div > section > div > div')\n",
    "CBP=[]\n",
    "for bp in Customers_Bought_Products:\n",
    "    CBP.append(bp.text)\n",
    "    print(CBP)"
   ]
  },
  {
   "cell_type": "code",
   "execution_count": 27,
   "metadata": {},
   "outputs": [],
   "source": [
    "site=\"jm\"\n",
    "Review_Page=webD.find_element_by_xpath(\"/html/body/div[1]/main/div[3]/div[2]/section[2]/header/a\").click()"
   ]
  },
  {
   "cell_type": "code",
   "execution_count": 28,
   "metadata": {},
   "outputs": [
    {
     "name": "stdout",
     "output_type": "stream",
     "text": [
      "Customer Feedback\n",
      "PRODUCT RATINGS (130)\n",
      "4.5/5\n",
      "4.5 out of 5\n",
      "130 ratings\n",
      "5\n",
      "(82)\n",
      "4\n",
      "(35)\n",
      "3\n",
      "(9)\n",
      "2\n",
      "(0)\n",
      "1\n",
      "(4)\n",
      "PRODUCT REVIEWS (31)\n",
      "5 out of 5\n",
      "Loved it\n",
      "Superb\n",
      "21-11-2020by Ugochi\n",
      "Verified Purchase\n",
      "5 out of 5\n",
      "I like it\n",
      "Work for my hair\n",
      "30-10-2020by CHARITY\n",
      "Verified Purchase\n",
      "5 out of 5\n",
      "I love it\n",
      "Great and cheap\n",
      "27-06-2020by Diana\n",
      "Verified Purchase\n",
      "4 out of 5\n",
      "Nice\n",
      "It's very ok\n",
      "27-06-2020by Iniemem\n",
      "Verified Purchase\n",
      "5 out of 5\n",
      "It's nice\n",
      "It is a nice product\n",
      "12-06-2020by Oluwafemi\n",
      "Verified Purchase\n",
      "4 out of 5\n",
      "I like it.\n",
      "Makes my hair silky\n",
      "02-06-2020by Edith\n",
      "Verified Purchase\n",
      "5 out of 5\n",
      "Love it\n",
      "Love it, smells nice\n",
      "28-05-2020by VICTORIA\n",
      "Verified Purchase\n",
      "5 out of 5\n",
      "It’s good\n",
      "Makes my hair soft and grow\n",
      "24-05-2020by May\n",
      "Verified Purchase\n",
      "3 out of 5\n",
      "It works\n",
      "Very cool\n",
      "14-05-2020by Rosemary\n",
      "Verified Purchase\n",
      "5 out of 5\n",
      "I like it\n",
      "Good deal\n",
      "07-05-2020by Lynda\n",
      "Verified Purchase\n",
      "1\n",
      "2\n",
      "3\n"
     ]
    }
   ],
   "source": [
    "review1=webD.find_elements_by_css_selector('#jm > main > div > div > section')\n",
    "for r in review1:\n",
    "    print(r.text)"
   ]
  },
  {
   "cell_type": "code",
   "execution_count": 55,
   "metadata": {},
   "outputs": [
    {
     "name": "stdout",
     "output_type": "stream",
     "text": [
      "PRODUCT REVIEWS (31)\n",
      "5 out of 5\n",
      "I love it\n",
      "This conditioner ehn, since I started using it , I can't get enough of it.\n",
      "02-05-2020by OLOLADE\n",
      "Verified Purchase\n",
      "5 out of 5\n",
      "I love it\n",
      "Great product\n",
      "23-04-2020by SCOTT\n",
      "Verified Purchase\n",
      "5 out of 5\n",
      "I like it\n",
      "Very nice\n",
      "04-04-2020by Oladoja\n",
      "Verified Purchase\n",
      "4 out of 5\n",
      "nice one\n",
      "It is very lovely, exactly how and what I expected.\n",
      "24-03-2020by Lilian\n",
      "Verified Purchase\n",
      "5 out of 5\n",
      "I like it\n",
      "The product is as seen in the picture and it works perfectly on my hair\n",
      "14-01-2020by stella\n",
      "Verified Purchase\n",
      "5 out of 5\n",
      "Excellent ????\n",
      "Very good product, corresponds with the description\n",
      "10-01-2020by HUTANU\n",
      "Verified Purchase\n",
      "4 out of 5\n",
      "I like it\n",
      "Though l have not used it.\n",
      "23-12-2019by Shareefah Bidmos\n",
      "Verified Purchase\n",
      "4 out of 5\n",
      "I like it\n",
      "Nice product\n",
      "21-12-2019by Rose\n",
      "Verified Purchase\n",
      "3 out of 5\n",
      "Ok I guess\n",
      "It seems to make my hair brittle, and very flammable.\n",
      "12-12-2019by YOLANDA\n",
      "Verified Purchase\n",
      "5 out of 5\n",
      "Cool\n",
      "The 2 in 1 deal is really cost effective and the product is so nice\n",
      "11-12-2019by Ashiedu\n",
      "Verified Purchase\n"
     ]
    }
   ],
   "source": [
    "webD.get('https://www.jumia.com.ng/catalog/productratingsreviews/sku/ME963HB0RJAQKNAFAMZ/?page=2')\n",
    "other_reviews=webD.find_elements_by_css_selector('#jm > main > div > div > section > div.row.-fw-nw > div.cola.-phm.-df.-d-co')\n",
    "for rev in other_reviews:\n",
    "    print(rev.text)\n",
    "    "
   ]
  },
  {
   "cell_type": "code",
   "execution_count": 52,
   "metadata": {},
   "outputs": [
    {
     "name": "stdout",
     "output_type": "stream",
     "text": [
      "PRODUCT REVIEWS (31)\n",
      "5 out of 5\n",
      "I love it\n",
      "Is good\n",
      "02-12-2019by Shittu Faruq shimaf-kay\n",
      "Verified Purchase\n",
      "5 out of 5\n",
      "Good\n",
      "Good\n",
      "02-12-2019by Nice\n",
      "Verified Purchase\n",
      "4 out of 5\n",
      "Mega growth deep conditioner\n",
      "Excellent. Effective\n",
      "22-11-2019by Joanna\n",
      "Verified Purchase\n",
      "5 out of 5\n",
      "Mega Growth Deep Conditioner - 500g Pack Of 2\n",
      "I have used the product for almost 2 years. It&#039;s a pleasure ordering it here at a very cheap price. i received it in 5 days at Onitsha.\n",
      "11-11-2019by Rhaalu\n",
      "Verified Purchase\n",
      "5 out of 5\n",
      "I love it\n",
      "I love it it makes my hair really soft days after deep conditioning\n",
      "09-10-2019by Arewe\n",
      "Verified Purchase\n",
      "5 out of 5\n",
      "Nice product\n",
      "I’m happy with this conditioner. It smells nice and softens my hair. I also use the mega growth shampoo\n",
      "05-08-2019by Jay\n",
      "Verified Purchase\n",
      "4 out of 5\n",
      "i like it\n",
      "it was in good condition\n",
      "26-06-2019by shakira\n",
      "Verified Purchase\n",
      "3 out of 5\n",
      "wrong product sent\n",
      "i paid for deep conditoner but leave in strengther was sent,\n",
      "31-03-2019by onyinye\n",
      "Verified Purchase\n",
      "1 out of 5\n",
      "Worng item\n",
      "Got a wrong product that was displayed\n",
      "18-03-2019by Nanya\n",
      "Verified Purchase\n",
      "5 out of 5\n",
      "Good\n",
      "The product is same as seen in the picture and in good condition, expiry date is still way far... I recommend it\n",
      "15-01-2019by Perfect\n",
      "Verified Purchase\n"
     ]
    }
   ],
   "source": [
    "webD.get('https://www.jumia.com.ng/catalog/productratingsreviews/sku/ME963HB0RJAQKNAFAMZ/?page=3')\n",
    "other_reviews2=webD.find_elements_by_css_selector('#jm > main > div > div > section > div.row.-fw-nw > div.cola.-phm.-df.-d-co')\n",
    "for rev2 in other_reviews2:\n",
    "    print(rev2.text)"
   ]
  },
  {
   "cell_type": "code",
   "execution_count": 53,
   "metadata": {},
   "outputs": [
    {
     "name": "stdout",
     "output_type": "stream",
     "text": [
      "PRODUCT REVIEWS (31)\n",
      "4 out of 5\n",
      "nice\n",
      "Just as seen in pic\n",
      "12-12-2018by JOYT\n",
      "Verified Purchase\n"
     ]
    }
   ],
   "source": [
    "webD.get('https://www.jumia.com.ng/catalog/productratingsreviews/sku/ME963HB0RJAQKNAFAMZ/?page=4')\n",
    "other_reviews3=webD.find_elements_by_css_selector('#jm > main > div > div > section > div.row.-fw-nw > div.cola.-phm.-df.-d-co')\n",
    "for rev3 in other_reviews3:\n",
    "    print(rev3.text)"
   ]
  },
  {
   "cell_type": "markdown",
   "metadata": {},
   "source": [
    "Thanks, You can use the code as well"
   ]
  }
 ],
 "metadata": {
  "kernelspec": {
   "display_name": "Python 3",
   "language": "python",
   "name": "python3"
  },
  "language_info": {
   "codemirror_mode": {
    "name": "ipython",
    "version": 3
   },
   "file_extension": ".py",
   "mimetype": "text/x-python",
   "name": "python",
   "nbconvert_exporter": "python",
   "pygments_lexer": "ipython3",
   "version": "3.6.4"
  }
 },
 "nbformat": 4,
 "nbformat_minor": 2
}
