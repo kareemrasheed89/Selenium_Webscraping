{
 "cells": [
  {
   "cell_type": "code",
   "execution_count": 5,
   "metadata": {},
   "outputs": [],
   "source": [
    "#Doing web scrapin of some website with Selenium\n",
    "import selenium\n",
    "from selenium import webdriver as wb\n",
    "#webD = wb.Chrome('C:\\Program Files (x86)\\Google\\Chrome\\Application\\chromedriver.exe')\n",
    "webD = wb.Chrome(r\"C:\\Users\\user\\Documents\\APP\\chromedriver.exe\")"
   ]
  },
  {
   "cell_type": "code",
   "execution_count": 6,
   "metadata": {},
   "outputs": [],
   "source": [
    "webD.get(\"https://www.jumia.com.ng/condiments-salad-dressing/\")"
   ]
  },
  {
   "cell_type": "code",
   "execution_count": 8,
   "metadata": {},
   "outputs": [
    {
     "name": "stdout",
     "output_type": "stream",
     "text": [
      "[\"Heinz Apple Cider Vinegar 473ml 16 FL OZ\\n₦ 1,700\\n₦ 3,500\\n51%\\n4.5 out of 5\\n(32)\\nBragg Organic Apple Cider Vinegar 946ml, 32oz (Raw/Unfiltered) With ' The Mother'\\n₦ 5,700\\n₦ 6,500\\n12%\\n4.6 out of 5\\n(50)\\nBragg Apple Cider Vinegar Organic 473ml, 16oz (Raw/Unfiltered)\\n₦ 3,900\\n₦ 4,500\\n13%\\n4.8 out of 5\\n(14)\\nKtc Pure Almond Oil B.P Sweet 200ML\\n₦ 1,420\\n₦ 3,500\\n59%\\n4.3 out of 5\\n(51)\\nKtc Pure Almond Oil B.P Sweet 200ml Made With 100% Californian Almonds\\n₦ 1,500\\n₦ 2,500\\n40%\\noffers from\\n4.5 out of 5\\n(56)\\nBragg Apple Cider Vinegar Organic (Raw/Unfiltered) With ' The Mother' - 473ml, 16oz\\n₦ 3,900\\n₦ 4,500\\n13%\\noffers from\\n4.2 out of 5\\n(432)\\nBrillo Extra Virgin Olive Oil - 250ml\\n₦ 1,450\\n₦ 2,500\\n42%\\noffers from\\n4.2 out of 5\\n(44)\\nTropical Sun 100% Pure. Cold Pressed Virgin Coconut Oil- 480ml\\n₦ 3,500\\n₦ 8,000\\n56%\\n3.3 out of 5\\n(3)\\nFALLY White Vinegar 750ml\\n₦ 900 - ₦ 2,500\\n4.3 out of 5\\n(9)\\nBama Mayonnaise (pet) 8oz (1 Jar)\\n₦ 949\\n₦ 2,509\\n62%\\noffers from\\nKtc 100% Mustard Oil\\n₦ 1,350\\n₦ 3,500\\n61%\\n4 out of 5\\n(1)\\nTropical Sun Virgin Coconut Oil 480ml\\n₦ 3,400\\n₦ 7,000\\n51%\\n5 out of 5\\n(1)\\nHeinz Distilled White Vinegar\\n₦ 1,700\\n₦ 3,000\\n43%\\n4.7 out of 5\\n(6)\\nTrs Brown Mustard Seeds - 100g ×3Pcs\\n₦ 1,400\\n₦ 3,000\\n53%\\nNutiva Organic Virgin Coconut Oil, Non GMO - 54 OZ\\n₦ 13,100\\n₦ 15,000\\n13%\\n4 out of 5\\n(1)\\nKtc Olive Pomace Oil Blend 5 Litres\\n₦ 6,900\\n₦ 12,000\\n43%\\nLa Tourangelle Avocado Oil, Non GMO - 16.9 Fl Oz (500ml)\\n₦ 7,700\\n₦ 8,800\\n13%\\n4.7 out of 5\\n(3)\\nKtc 100% Pure Coconut Oil - 250ML\\n₦ 1,600\\n₦ 3,000\\n47%\\n3 out of 5\\n(2)\\nHeinz Apple Cider Vinegar 473ml 16 FL OZ.\\n₦ 2,000\\n3.3 out of 5\\n(3)\\nKtc Pure Almond Oil - 500ML\\n₦ 3,700\\n₦ 7,000\\n47%\\n4.7 out of 5\\n(7)\\nHeinz Salad Cream X2\\n₦ 3,200\\nKtc Almond Oil, Castor Oil And Coconut Oil Combo\\n₦ 4,500\\n₦ 7,000\\n36%\\n5 out of 5\\n(1)\\nLa Tourangelle Grapeseed Oil Non GMO,16.9 Fl Oz (500ml)\\n₦ 6,200\\n₦ 7,000\\n11%\\nDikins Coconut Oil 250ml (Organic Cold Pressed).\\n₦ 2,550\\n4 out of 5\\n(1)\\nHeinz Apple Cider Vinegar 473ml 16 FL OZ\\n₦ 1,800\\n4.6 out of 5\\n(16)\\nBrillo Extra Virgin Olive Oil - 1 Litre\\n₦ 5,850\\n₦ 9,000\\n35%\\noffers from\\nBragg Apple Cider Vinegar With 'The Mother' 473ml 16oz+ Honey 340g\\n₦ 5,600\\n₦ 6,000\\n7%\\n4 out of 5\\n(3)\\nHeinz Apple Cider Vinegar 473ml 16 FL OZ\\n₦ 1,999\\n₦ 3,000\\n33%\\n5 out of 5\\n(1)\\nKtc Coconut Oil ,100% Pure 250ML -2 Bottles\\n₦ 2,400\\nBama Mayonnaise -946ml\\n₦ 2,199\\noffers from\\n4 out of 5\\n(1)\\nBragg Apple Cider Vinegar Organic 946ml, 32oz + Rowse Honey 340g\\n₦ 7,500\\n₦ 8,500\\n12%\\n4.6 out of 5\\n(25)\\nGino Magic,pepper, Onion And Tomato Paste.(65gx10)\\n₦ 1,999\\n₦ 3,500\\n43%\\nBaidar Apple Cider Vinegar - 473ml\\n₦ 2,000\\noffers from\\n3.3 out of 5\\n(4)\\nHeinz Apple Cider Vinegar 473ml 16 FL OZ.\\n₦ 2,000\\n4.7 out of 5\\n(3)\\nZanapure APPLE CIDER VINEGAR + KETO For Weight Loss 2250 Mg\\n₦ 9,800\\n₦ 15,000\\n35%\\n5 out of 5\\n(1)\\nKtc 100% Pure Coconut Oil - 500ML\\n₦ 3,000\\n₦ 5,800\\n48%\\n5 out of 5\\n(4)\\nKtc Pure Almond Oil B.P Sweet 200ml\\n₦ 1,450\\n₦ 3,500\\n59%\\nBrillo Extra Virgin Olive Oil - 1L FL OZ\\n₦ 4,450\\n₦ 8,000\\n44%\\noffers from\\n4.8 out of 5\\n(8)\\nVerdana All Natural Grapeseed Oil - Hexane Free 16oz 473ml\\n₦ 7,800\\n₦ 9,800\\n20%\\n5 out of 5\\n(1)\\nTropical Sun Virgin Coconut Oil 250ml\\n₦ 2,550\\n₦ 7,000\\n64%\\nHeinz Apple Cider Vinegar - 946ml\\n₦ 3,500\\n₦ 5,000\\n30%\\n5 out of 5\\n(1)\\nSponsored\\nBragg Organic Apple Cider Vinegar 946ml, 32oz (Raw/Unfiltered) With ' The Mother'\\n₦ 5,700\\n₦ 6,500\\n12%\\n4.6 out of 5\\n(50)\\nSponsored\\nBragg Apple Cider Vinegar With 'The Mother' 473ml 16oz+ Honey 340g\\n₦ 5,600\\n₦ 6,000\\n7%\\n4 out of 5\\n(3)\\nSponsored\\nOlivari Avocado Oil 1litre\\n₦ 11,500\\n₦ 18,000\\n36%\\nSponsored\\nTropical Sun Virgin Coconut Oil 480ml\\n₦ 3,400\\n₦ 7,000\\n51%\\n5 out of 5\\n(1)\\nSponsored\\nBragg Apple Cider Vinegar Organic 473ml, 16oz (Raw/Unfiltered)\\n₦ 3,900\\n₦ 4,500\\n13%\\n4.8 out of 5\\n(14)\\nSponsored\\nBrillo Extra Virgin Olive Oil - 1 Litre\\n₦ 5,850\\n₦ 9,000\\n35%\\noffers from\\nSponsored\\nHeinz Zero Sugar Ketchup (Keto Friendly)\\n₦ 4,000\\n4 out of 5\\n(2)\\nSponsored\"]\n"
     ]
    }
   ],
   "source": [
    "prices=webD.find_elements_by_css_selector('#jm > main > div.aim.row.-pbm > div.-pvs.col12 > section > div.-paxs.row._no-g._4cl-3cm-shs')\n",
    "product_info=[]\n",
    "for p in prices:\n",
    "    product_info.append(p.text)\n",
    "    print(product_info)"
   ]
  },
  {
   "cell_type": "code",
   "execution_count": null,
   "metadata": {},
   "outputs": [],
   "source": []
  }
 ],
 "metadata": {
  "kernelspec": {
   "display_name": "Python 3",
   "language": "python",
   "name": "python3"
  },
  "language_info": {
   "codemirror_mode": {
    "name": "ipython",
    "version": 3
   },
   "file_extension": ".py",
   "mimetype": "text/x-python",
   "name": "python",
   "nbconvert_exporter": "python",
   "pygments_lexer": "ipython3",
   "version": "3.6.4"
  }
 },
 "nbformat": 4,
 "nbformat_minor": 2
}
